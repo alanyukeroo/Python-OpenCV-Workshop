{
 "cells": [
  {
   "cell_type": "markdown",
   "metadata": {},
   "source": [
    "## Arithmetic Operations\n",
    "\n",
    "These are simple operations that allow us to directly add or subract to the color intensity.\n",
    "\n",
    "Calculates the per-element operation of two arrays. The overall effect is increasing or decreasing brightness."
   ]
  },
  {
   "cell_type": "code",
   "execution_count": 1,
   "metadata": {},
   "outputs": [],
   "source": [
    "import cv2\n",
    "import numpy as np\n",
    "\n",
    "image = cv2.imread('images/input.jpg')\n",
    "\n",
    "# Create a matrix of ones, then multiply it by a scaler of 100 \n",
    "# This gives a matrix with same dimesions of our image with all values being 100\n",
    "M = np.ones(image.shape, dtype = \"uint8\") * 175 \n",
    "\n",
    "# We use this to add this matrix M, to our image\n",
    "# Notice the increase in brightness\n",
    "added = cv2.add(image, M)\n",
    "cv2.imshow(\"Added\", added)\n",
    "\n",
    "# Likewise we can also subtract\n",
    "# Notice the decrease in brightness\n",
    "subtracted = cv2.subtract(image, M)\n",
    "cv2.imshow(\"Subtracted\", subtracted)\n",
    "\n",
    "cv2.waitKey(0)\n",
    "cv2.destroyAllWindows()"
   ]
  },
  {
   "cell_type": "code",
   "execution_count": 9,
   "metadata": {},
   "outputs": [
    {
     "data": {
      "text/plain": [
       "array([[[175, 175, 175],\n",
       "        [175, 175, 175],\n",
       "        [175, 175, 175],\n",
       "        ...,\n",
       "        [175, 175, 175],\n",
       "        [175, 175, 175],\n",
       "        [175, 175, 175]],\n",
       "\n",
       "       [[175, 175, 175],\n",
       "        [175, 175, 175],\n",
       "        [175, 175, 175],\n",
       "        ...,\n",
       "        [175, 175, 175],\n",
       "        [175, 175, 175],\n",
       "        [175, 175, 175]],\n",
       "\n",
       "       [[175, 175, 175],\n",
       "        [175, 175, 175],\n",
       "        [175, 175, 175],\n",
       "        ...,\n",
       "        [175, 175, 175],\n",
       "        [175, 175, 175],\n",
       "        [175, 175, 175]],\n",
       "\n",
       "       ...,\n",
       "\n",
       "       [[175, 175, 175],\n",
       "        [175, 175, 175],\n",
       "        [175, 175, 175],\n",
       "        ...,\n",
       "        [175, 175, 175],\n",
       "        [175, 175, 175],\n",
       "        [175, 175, 175]],\n",
       "\n",
       "       [[175, 175, 175],\n",
       "        [175, 175, 175],\n",
       "        [175, 175, 175],\n",
       "        ...,\n",
       "        [175, 175, 175],\n",
       "        [175, 175, 175],\n",
       "        [175, 175, 175]],\n",
       "\n",
       "       [[175, 175, 175],\n",
       "        [175, 175, 175],\n",
       "        [175, 175, 175],\n",
       "        ...,\n",
       "        [175, 175, 175],\n",
       "        [175, 175, 175],\n",
       "        [175, 175, 175]]], dtype=uint8)"
      ]
     },
     "execution_count": 9,
     "metadata": {},
     "output_type": "execute_result"
    }
   ],
   "source": [
    "import cv2\n",
    "import numpy as np\n",
    "image = cv2.imread('images/input.jpg')\n",
    "M = np.ones(image.shape, dtype = \"uint8\") * 175 \n",
    "M\n"
   ]
  },
  {
   "cell_type": "code",
   "execution_count": 4,
   "metadata": {},
   "outputs": [
    {
     "ename": "NameError",
     "evalue": "name 'image' is not defined",
     "output_type": "error",
     "traceback": [
      "\u001b[1;31m---------------------------------------------------------------------------\u001b[0m",
      "\u001b[1;31mNameError\u001b[0m                                 Traceback (most recent call last)",
      "\u001b[1;32m<ipython-input-4-537a5d29b70e>\u001b[0m in \u001b[0;36m<module>\u001b[1;34m()\u001b[0m\n\u001b[1;32m----> 1\u001b[1;33m \u001b[0mM\u001b[0m \u001b[1;33m=\u001b[0m \u001b[0mnp\u001b[0m\u001b[1;33m.\u001b[0m\u001b[0mones\u001b[0m\u001b[1;33m(\u001b[0m\u001b[0mimage\u001b[0m\u001b[1;33m.\u001b[0m\u001b[0mshape\u001b[0m\u001b[1;33m,\u001b[0m \u001b[0mdtype\u001b[0m \u001b[1;33m=\u001b[0m \u001b[1;34m\"uint8\"\u001b[0m\u001b[1;33m)\u001b[0m \u001b[1;33m*\u001b[0m \u001b[1;36m20\u001b[0m\u001b[1;33m\u001b[0m\u001b[0m\n\u001b[0m\u001b[0;32m      2\u001b[0m \u001b[0mM\u001b[0m\u001b[1;33m\u001b[0m\u001b[0m\n",
      "\u001b[1;31mNameError\u001b[0m: name 'image' is not defined"
     ]
    }
   ],
   "source": [
    "M = np.ones(image.shape, dtype = \"uint8\") * 20\n",
    "M"
   ]
  },
  {
   "cell_type": "code",
   "execution_count": null,
   "metadata": {
    "collapsed": true
   },
   "outputs": [],
   "source": []
  }
 ],
 "metadata": {
  "kernelspec": {
   "display_name": "Python 2",
   "language": "python",
   "name": "python2"
  },
  "language_info": {
   "codemirror_mode": {
    "name": "ipython",
    "version": 2
   },
   "file_extension": ".py",
   "mimetype": "text/x-python",
   "name": "python",
   "nbconvert_exporter": "python",
   "pygments_lexer": "ipython2",
   "version": "2.7.16"
  }
 },
 "nbformat": 4,
 "nbformat_minor": 1
}
